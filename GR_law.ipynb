{
 "cells": [
  {
   "cell_type": "code",
   "execution_count": 13,
   "metadata": {
    "collapsed": false
   },
   "outputs": [],
   "source": [
    "%matplotlib inline\n",
    "import sys,os\n",
    "import csv\n",
    "import numpy as np\n",
    "from scipy import stats\n",
    "import matplotlib\n",
    "from matplotlib import pylab as py\n",
    "import pandas as pd\n",
    "import matplotlib.pyplot as plt"
   ]
  },
  {
   "cell_type": "code",
   "execution_count": 14,
   "metadata": {
    "collapsed": true
   },
   "outputs": [],
   "source": [
    "def calc_recurrence(df, min_mag = None, max_mag = None, interval = 0.1):\n",
    "    \"\"\"\n",
    "    This function reads an earthquake catalogue file and calculates the\n",
    "    Gutenberg-Richter recurrence parameters using both least squares and\n",
    "    maximum likelihood (Aki 1965) approaches.\n",
    "\n",
    "    Results are plotted for both straightline fits and bounded\n",
    "    Gutenberg-Richter curves. Also plotted is the curve that would result\n",
    "    assuming a b-value of 1.\n",
    "\n",
    "    Funtion arguments:\n",
    "\n",
    "        infile: file containing earthquake catalogue\n",
    "                Expected input file format: csv\n",
    "                One header line\n",
    "                Year of earthquake in 3rd column, magnitude in 6th column.\n",
    "        min_mag: minimum magnitude for which data will be used - i.e. catalogue\n",
    "                completeness\n",
    "        max_mag: maximum magnitude used in bounded G-R curve. If not specified,\n",
    "                defined as the maximum magnitude in the catlogue + 0.1 magnitude\n",
    "                units.\n",
    "        interval: Width of magnitude bins for generating cumulative histogram\n",
    "                of earthquake recurrence. Default avlue 0.1 magnitude units.  \n",
    "    \n",
    "    \"\"\"\n",
    "    magnitudes = df.prefmag.values\n",
    "    years = df.year_float.values\n",
    "    print 'Checkpoint 0'\n",
    "    \n",
    "    ###########################################################################\n",
    "    # Read data\n",
    "    ###########################################################################\n",
    "    \n",
    "    # If maximum magnitude is not specified default value to maximum in catalogue\n",
    "    if max_mag is not None:\n",
    "        pass\n",
    "    else:\n",
    "        max_mag = magnitudes.max() + 0.1\n",
    "        \n",
    "    if min_mag is not None:\n",
    "        pass\n",
    "    else:\n",
    "        min_mag = magnitudes.min()\n",
    "\n",
    "    num_eq = len(magnitudes)\n",
    "    print 'Minimum magnitude:', min_mag\n",
    "    print 'Total number of earthquakes:', num_eq\n",
    "    num_years = years.max()-years.min()\n",
    "    annual_num_eq = num_eq/num_years\n",
    "    print 'Annual number of earthquakes greater than Mw', min_mag,':', \\\n",
    "    annual_num_eq\n",
    "    print 'Maximum catalog magnitude:', magnitudes.max()\n",
    "    print 'Mmax = ', max_mag\n",
    "    max_mag_bin = magnitudes.max() + 0.15\n",
    "    \n",
    "    # Magnitude bins\n",
    "    bins = np.arange(min_mag, max_mag_bin, interval)\n",
    "    # Magnitude bins for plotting - we will re-arrange bins later\n",
    "    plot_bins = np.arange(min_mag, max_mag, interval)\n",
    "    \n",
    "    print 'Checkpoint 1: Data has been read'\n",
    "\n",
    "    ###########################################################################\n",
    "    # Generate distribution\n",
    "    ###########################################################################\n",
    "    # Generate histogram\n",
    "    hist = np.histogram(magnitudes,bins=bins)\n",
    "\n",
    "    # Reverse array order\n",
    "    hist = hist[0][::-1]\n",
    "    bins = bins[::-1]\n",
    "\n",
    "    # Calculate cumulative sum\n",
    "    cum_hist = hist.cumsum()\n",
    "    # Ensure bins have the same length has the cumulative histogram.\n",
    "    # Remove the upper bound for the highest interval.\n",
    "    bins = bins[1:]\n",
    "\n",
    "    # Get annual rate\n",
    "    cum_annual_rate = cum_hist/num_years\n",
    "\n",
    "    new_cum_annual_rate = []\n",
    "    for i in cum_annual_rate:\n",
    "        new_cum_annual_rate.append(i+1e-20)\n",
    "\n",
    "    # Take logarithm\n",
    "    log_cum_sum = np.log10(new_cum_annual_rate)\n",
    "    \n",
    "    print 'Checkpoint 2: Distribution has been formed'\n",
    "    \n",
    "    ###########################################################################\n",
    "    # Fit a and b parameters using a varity of methods\n",
    "    ###########################################################################\n",
    "    \n",
    "    # Fit a least squares curve\n",
    "    b,a = np.polyfit(bins, log_cum_sum, 1)\n",
    "    print 'Least Squares: b value', -1. * b, 'a value', a\n",
    "    alpha = np.log(10) * a\n",
    "    beta = -1.0 * np.log(10) * b\n",
    "\n",
    "    # Maximum Likelihood Estimator fitting\n",
    "    # b value\n",
    "    b_mle = np.log10(np.exp(1)) / (np.mean(magnitudes) - min_mag)\n",
    "    beta_mle = np.log(10) * b_mle\n",
    "    print 'Maximum Likelihood: b value', b_mle\n",
    "    \n",
    "    print 'Checkpoint 3: Parameters a and b have been fit'\n",
    "\n",
    "    ###########################################################################\n",
    "    # Generate data to plot results\n",
    "    ###########################################################################\n",
    "\n",
    "    # Generate data to plot least squares linear curve\n",
    "    # Calculate y-intercept for least squares solution\n",
    "    yintercept = log_cum_sum[-1] - b * min_mag\n",
    "    ls_fit = b * plot_bins + yintercept\n",
    "    log_ls_fit = []\n",
    "    for value in ls_fit:\n",
    "        log_ls_fit.append(np.power(10,value))\n",
    "\n",
    "    # Generate data to plot bounded Gutenberg-Richter for LS solution\n",
    "    numer = np.exp(-1. * beta * (plot_bins - min_mag)) - \\\n",
    "            np.exp(-1. *beta * (max_mag - min_mag))\n",
    "    denom = 1. - np.exp(-1. * beta * (max_mag - min_mag))\n",
    "    ls_bounded = annual_num_eq * (numer / denom)\n",
    "        \n",
    "    # Generate data to plot maximum likelihood linear curve\n",
    "    mle_fit = -1.0 * b_mle * plot_bins + 1.0 * b_mle * min_mag + np.log10(annual_num_eq)\n",
    "    log_mle_fit = []\n",
    "    for value in mle_fit:\n",
    "        log_mle_fit.append(np.power(10,value))\n",
    "\n",
    "    # Generate data to plot bounded Gutenberg-Richter for MLE solution\n",
    "    numer = np.exp(-1. * beta_mle * (plot_bins - min_mag)) - \\\n",
    "            np.exp(-1. *beta_mle * (max_mag - min_mag))\n",
    "    denom = 1. - np.exp(-1. * beta_mle * (max_mag - min_mag))\n",
    "    mle_bounded = annual_num_eq * (numer / denom)\n",
    "\n",
    "    # Compare b-value of 1\n",
    "    fit_data = -1.0 * plot_bins + min_mag + np.log10(annual_num_eq)\n",
    "    log_fit_data = []\n",
    "    for value in fit_data:\n",
    "        log_fit_data.append(np.power(10,value))\n",
    "        \n",
    "    print 'Checkpoint 4: Data has been generated'\n",
    "\n",
    "    ###########################################################################\n",
    "    # Plot the results\n",
    "    ###########################################################################\n",
    "\n",
    "    # Plotting\n",
    "    fig = plt.figure(1)\n",
    "    ax = fig.add_subplot(111)\n",
    "    plt.scatter(bins, new_cum_annual_rate, label = 'Catalogue')\n",
    "    ax.plot(plot_bins, log_ls_fit, c = 'r', label = 'Least Squares')\n",
    "    ax.plot(plot_bins, ls_bounded, c = 'r', linestyle ='--', label = 'Least Squares Bounded')\n",
    "    ax.plot(plot_bins, log_mle_fit, c = 'g', label = 'Maximum Likelihood')\n",
    "    ax.plot(plot_bins, mle_bounded, c = 'g', linestyle ='--', label = 'Maximum Likelihood Bounded')\n",
    "    ax.plot(plot_bins, log_fit_data, c = 'b', label = 'b = 1')\n",
    "    \n",
    "    #ax.plot(bins, ls_fit2, c = 'k')\n",
    "    ax.set_yscale('log')\n",
    "    ax.legend(loc = 3)\n",
    "    ax.set_ylim([min(new_cum_annual_rate) * 0.1, max(new_cum_annual_rate) * 10.])\n",
    "    ax.set_xlim([min_mag - 0.5, max_mag + 0.5])\n",
    "    ax.set_ylabel('Annual probability')\n",
    "    ax.set_xlabel('Magnitude')\n"
   ]
  },
  {
   "cell_type": "code",
   "execution_count": 15,
   "metadata": {
    "collapsed": false
   },
   "outputs": [],
   "source": [
    "eq_df = pd.read_csv('tempdata/earthquakes_catalog.csv', sep =\"|\")\n",
    "eq_df = eq_df[eq_df.prefmag >= 3]\n",
    "preset = eq_df[eq_df.year_float <= 2010]\n",
    "postset = eq_df[eq_df.year_float > 2010]"
   ]
  },
  {
   "cell_type": "code",
   "execution_count": 16,
   "metadata": {
    "collapsed": false
   },
   "outputs": [
    {
     "name": "stdout",
     "output_type": "stream",
     "text": [
      "Checkpoint 0\n",
      "Minimum magnitude: 3.0\n",
      "Total number of earthquakes: 65\n",
      "Annual number of earthquakes greater than Mw 3.0 : 2.19928946033\n",
      "Maximum catalog magnitude: 4.2\n",
      "Mmax =  4.3\n",
      "Checkpoint 1: Data has been read\n",
      "Checkpoint 2: Distribution has been formed\n",
      "Least Squares: b value 7.68281591362 a value 25.6639063792\n",
      "Maximum Likelihood: b value 1.50155007041\n",
      "Checkpoint 3: Parameters a and b have been fit\n",
      "Checkpoint 4: Data has been generated\n"
     ]
    },
    {
     "data": {
      "image/png": "[encoded data removed]",
      "text/plain": [
       "<matplotlib.figure.Figure at 0x10b4932d0>"
      ]
     },
     "metadata": {},
     "output_type": "display_data"
    }
   ],
   "source": [
    "calc_recurrence(preset)"
   ]
  },
  {
   "cell_type": "code",
   "execution_count": 17,
   "metadata": {
    "collapsed": false
   },
   "outputs": [
    {
     "name": "stdout",
     "output_type": "stream",
     "text": [
      "Checkpoint 0\n",
      "Minimum magnitude: 3.0\n",
      "Total number of earthquakes: 1731\n",
      "Annual number of earthquakes greater than Mw 3.0 : 295.392491468\n",
      "Maximum catalog magnitude: 5.6\n",
      "Mmax =  5.7\n",
      "Checkpoint 1: Data has been read\n",
      "Checkpoint 2: Distribution has been formed\n",
      "Least Squares: b value 2.72329515204 a value 11.6574819634\n",
      "Maximum Likelihood: b value 1.53829291626\n",
      "Checkpoint 3: Parameters a and b have been fit\n",
      "Checkpoint 4: Data has been generated\n"
     ]
    },
    {
     "data": {
      "image/png": "[encoded data removed]",
      "text/plain": [
       "<matplotlib.figure.Figure at 0x10a7a3490>"
      ]
     },
     "metadata": {},
     "output_type": "display_data"
    }
   ],
   "source": [
    "calc_recurrence(postset)"
   ]
  },
  {
   "cell_type": "code",
   "execution_count": null,
   "metadata": {
    "collapsed": true
   },
   "outputs": [],
   "source": []
  }
 ],
 "metadata": {
  "kernelspec": {
   "display_name": "Python 2",
   "language": "python",
   "name": "python2"
  },
  "language_info": {
   "codemirror_mode": {
    "name": "ipython",
    "version": 2
   },
   "file_extension": ".py",
   "mimetype": "text/x-python",
   "name": "python",
   "nbconvert_exporter": "python",
   "pygments_lexer": "ipython2",
   "version": "2.7.10"
  }
 },
 "nbformat": 4,
 "nbformat_minor": 0
}
