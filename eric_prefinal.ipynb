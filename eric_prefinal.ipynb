{
 "cells": [
  {
   "cell_type": "code",
   "execution_count": 1,
   "metadata": {
    "collapsed": false
   },
   "outputs": [
    {
     "name": "stderr",
     "output_type": "stream",
     "text": [
      "//anaconda/lib/python2.7/site-packages/matplotlib/__init__.py:872: UserWarning: axes.color_cycle is deprecated and replaced with axes.prop_cycle; please use the latter.\n",
      "  warnings.warn(self.msg_depr % (key, alt_key))\n"
     ]
    }
   ],
   "source": [
    "%matplotlib inline\n",
    "import numpy as np\n",
    "import scipy as sp\n",
    "import json\n",
    "import matplotlib as mpl\n",
    "import matplotlib.cm as cm\n",
    "import matplotlib.pyplot as plt\n",
    "import pandas as pd\n",
    "from pyquery import PyQuery as pq\n",
    "import requests\n",
    "pd.set_option('display.width', 500)\n",
    "pd.set_option('display.max_columns', 100)\n",
    "pd.set_option('display.notebook_repr_html', True)\n",
    "import seaborn as sns\n",
    "sns.set_style(\"whitegrid\")\n",
    "sns.set_context(\"poster\")"
   ]
  },
  {
   "cell_type": "code",
   "execution_count": 2,
   "metadata": {
    "collapsed": false
   },
   "outputs": [],
   "source": [
    "eq_df = pd.read_csv('tempdata/since_1980.csv')"
   ]
  },
  {
   "cell_type": "code",
   "execution_count": 3,
   "metadata": {
    "collapsed": true
   },
   "outputs": [],
   "source": [
    "#Add column for year\n",
    "years = []\n",
    "for time in eq_df['origintime']:\n",
    "    year = int(str.split(time, '-')[0])\n",
    "    years.append(year)\n",
    "    #index = time.key\n",
    "year_column = pd.Series(years, index=eq_df.index)\n",
    "eq_df['year'] = year_column"
   ]
  },
  {
   "cell_type": "code",
   "execution_count": 4,
   "metadata": {
    "collapsed": false
   },
   "outputs": [
    {
     "data": {
      "text/html": [
       "<div>\n",
       "<table border=\"1\" class=\"dataframe\">\n",
       "  <thead>\n",
       "    <tr style=\"text-align: right;\">\n",
       "      <th></th>\n",
       "      <th>Unnamed: 0</th>\n",
       "      <th>id</th>\n",
       "      <th>origintime</th>\n",
       "      <th>latitude</th>\n",
       "      <th>longitude</th>\n",
       "      <th>depth</th>\n",
       "      <th>err_lon</th>\n",
       "      <th>err_lat</th>\n",
       "      <th>err_depth</th>\n",
       "      <th>err_origintime</th>\n",
       "      <th>county</th>\n",
       "      <th>origin_src</th>\n",
       "      <th>prefmag</th>\n",
       "      <th>pmag_type</th>\n",
       "      <th>pmag_src</th>\n",
       "      <th>mw</th>\n",
       "      <th>mw_src</th>\n",
       "      <th>mblg_ogs</th>\n",
       "      <th>mblg_usgs</th>\n",
       "      <th>ml_ogs</th>\n",
       "      <th>m3hz_ogs</th>\n",
       "      <th>md_ogs</th>\n",
       "      <th>mb</th>\n",
       "      <th>ms</th>\n",
       "      <th>mfa</th>\n",
       "      <th>max_mmi</th>\n",
       "      <th>reafile</th>\n",
       "      <th>reamtime</th>\n",
       "      <th>geom</th>\n",
       "      <th>pdlid</th>\n",
       "      <th>mw_ogs</th>\n",
       "      <th>year</th>\n",
       "    </tr>\n",
       "  </thead>\n",
       "  <tbody>\n",
       "    <tr>\n",
       "      <th>0</th>\n",
       "      <td>0</td>\n",
       "      <td>255</td>\n",
       "      <td>1980-01-05 07:11:31.21</td>\n",
       "      <td>35.586</td>\n",
       "      <td>-97.894</td>\n",
       "      <td>5</td>\n",
       "      <td>NaN</td>\n",
       "      <td>NaN</td>\n",
       "      <td>NaN</td>\n",
       "      <td>NaN</td>\n",
       "      <td>CANADIAN</td>\n",
       "      <td>OGS</td>\n",
       "      <td>1.9</td>\n",
       "      <td>M3Hz</td>\n",
       "      <td>OGS</td>\n",
       "      <td>NaN</td>\n",
       "      <td>NaN</td>\n",
       "      <td>1.6</td>\n",
       "      <td>NaN</td>\n",
       "      <td>NaN</td>\n",
       "      <td>1.9</td>\n",
       "      <td>1.7</td>\n",
       "      <td>NaN</td>\n",
       "      <td>NaN</td>\n",
       "      <td>NaN</td>\n",
       "      <td>NaN</td>\n",
       "      <td>NaN</td>\n",
       "      <td>NaN</td>\n",
       "      <td>0101000020E6100000F0A7C64B377958C05EBA490C02CB...</td>\n",
       "      <td>NaN</td>\n",
       "      <td>NaN</td>\n",
       "      <td>1980</td>\n",
       "    </tr>\n",
       "    <tr>\n",
       "      <th>1</th>\n",
       "      <td>1</td>\n",
       "      <td>256</td>\n",
       "      <td>1980-01-12 07:12:56.45</td>\n",
       "      <td>36.453</td>\n",
       "      <td>-97.642</td>\n",
       "      <td>5</td>\n",
       "      <td>NaN</td>\n",
       "      <td>NaN</td>\n",
       "      <td>NaN</td>\n",
       "      <td>NaN</td>\n",
       "      <td>GARFIELD</td>\n",
       "      <td>OGS</td>\n",
       "      <td>1.7</td>\n",
       "      <td>M3Hz</td>\n",
       "      <td>OGS</td>\n",
       "      <td>NaN</td>\n",
       "      <td>NaN</td>\n",
       "      <td>NaN</td>\n",
       "      <td>NaN</td>\n",
       "      <td>NaN</td>\n",
       "      <td>1.7</td>\n",
       "      <td>1.4</td>\n",
       "      <td>NaN</td>\n",
       "      <td>NaN</td>\n",
       "      <td>NaN</td>\n",
       "      <td>NaN</td>\n",
       "      <td>NaN</td>\n",
       "      <td>NaN</td>\n",
       "      <td>0101000020E61000000C022B87166958C0448B6CE7FB39...</td>\n",
       "      <td>NaN</td>\n",
       "      <td>NaN</td>\n",
       "      <td>1980</td>\n",
       "    </tr>\n",
       "    <tr>\n",
       "      <th>2</th>\n",
       "      <td>2</td>\n",
       "      <td>257</td>\n",
       "      <td>1980-02-03 00:46:30.05</td>\n",
       "      <td>33.994</td>\n",
       "      <td>-97.463</td>\n",
       "      <td>5</td>\n",
       "      <td>NaN</td>\n",
       "      <td>NaN</td>\n",
       "      <td>NaN</td>\n",
       "      <td>NaN</td>\n",
       "      <td>LOVE</td>\n",
       "      <td>OGS</td>\n",
       "      <td>2.2</td>\n",
       "      <td>M3Hz</td>\n",
       "      <td>OGS</td>\n",
       "      <td>NaN</td>\n",
       "      <td>NaN</td>\n",
       "      <td>1.9</td>\n",
       "      <td>NaN</td>\n",
       "      <td>NaN</td>\n",
       "      <td>2.2</td>\n",
       "      <td>2.0</td>\n",
       "      <td>NaN</td>\n",
       "      <td>NaN</td>\n",
       "      <td>NaN</td>\n",
       "      <td>NaN</td>\n",
       "      <td>NaN</td>\n",
       "      <td>NaN</td>\n",
       "      <td>0101000020E61000001283C0CAA15D58C0AC1C5A643BFF...</td>\n",
       "      <td>NaN</td>\n",
       "      <td>NaN</td>\n",
       "      <td>1980</td>\n",
       "    </tr>\n",
       "    <tr>\n",
       "      <th>3</th>\n",
       "      <td>3</td>\n",
       "      <td>258</td>\n",
       "      <td>1980-02-05 04:32:35.45</td>\n",
       "      <td>34.046</td>\n",
       "      <td>-97.451</td>\n",
       "      <td>5</td>\n",
       "      <td>NaN</td>\n",
       "      <td>NaN</td>\n",
       "      <td>NaN</td>\n",
       "      <td>NaN</td>\n",
       "      <td>LOVE</td>\n",
       "      <td>OGS</td>\n",
       "      <td>2.1</td>\n",
       "      <td>M3Hz</td>\n",
       "      <td>OGS</td>\n",
       "      <td>NaN</td>\n",
       "      <td>NaN</td>\n",
       "      <td>2.3</td>\n",
       "      <td>NaN</td>\n",
       "      <td>NaN</td>\n",
       "      <td>2.1</td>\n",
       "      <td>1.9</td>\n",
       "      <td>NaN</td>\n",
       "      <td>NaN</td>\n",
       "      <td>NaN</td>\n",
       "      <td>3</td>\n",
       "      <td>NaN</td>\n",
       "      <td>NaN</td>\n",
       "      <td>0101000020E6100000BE9F1A2FDD5C58C0D9CEF753E305...</td>\n",
       "      <td>NaN</td>\n",
       "      <td>NaN</td>\n",
       "      <td>1980</td>\n",
       "    </tr>\n",
       "    <tr>\n",
       "      <th>4</th>\n",
       "      <td>4</td>\n",
       "      <td>259</td>\n",
       "      <td>1980-03-09 03:57:10.56</td>\n",
       "      <td>35.100</td>\n",
       "      <td>-95.100</td>\n",
       "      <td>5</td>\n",
       "      <td>NaN</td>\n",
       "      <td>NaN</td>\n",
       "      <td>NaN</td>\n",
       "      <td>NaN</td>\n",
       "      <td>HASKELL</td>\n",
       "      <td>OGS</td>\n",
       "      <td>1.2</td>\n",
       "      <td>M3Hz</td>\n",
       "      <td>OGS</td>\n",
       "      <td>NaN</td>\n",
       "      <td>NaN</td>\n",
       "      <td>1.4</td>\n",
       "      <td>NaN</td>\n",
       "      <td>NaN</td>\n",
       "      <td>1.2</td>\n",
       "      <td>1.4</td>\n",
       "      <td>NaN</td>\n",
       "      <td>NaN</td>\n",
       "      <td>NaN</td>\n",
       "      <td>NaN</td>\n",
       "      <td>NaN</td>\n",
       "      <td>NaN</td>\n",
       "      <td>0101000020E61000006666666666C657C0CDCCCCCCCC8C...</td>\n",
       "      <td>NaN</td>\n",
       "      <td>NaN</td>\n",
       "      <td>1980</td>\n",
       "    </tr>\n",
       "  </tbody>\n",
       "</table>\n",
       "</div>"
      ],
      "text/plain": [
       "   Unnamed: 0   id              origintime  latitude  longitude  depth  err_lon  err_lat  err_depth  err_origintime    county origin_src  prefmag pmag_type pmag_src  mw mw_src  mblg_ogs  mblg_usgs  ml_ogs  m3hz_ogs  md_ogs  mb  ms  mfa  max_mmi reafile reamtime                                               geom  pdlid  mw_ogs  year\n",
       "0           0  255  1980-01-05 07:11:31.21    35.586    -97.894      5      NaN      NaN        NaN             NaN  CANADIAN        OGS      1.9      M3Hz      OGS NaN    NaN       1.6        NaN     NaN       1.9     1.7 NaN NaN  NaN      NaN     NaN      NaN  0101000020E6100000F0A7C64B377958C05EBA490C02CB...    NaN     NaN  1980\n",
       "1           1  256  1980-01-12 07:12:56.45    36.453    -97.642      5      NaN      NaN        NaN             NaN  GARFIELD        OGS      1.7      M3Hz      OGS NaN    NaN       NaN        NaN     NaN       1.7     1.4 NaN NaN  NaN      NaN     NaN      NaN  0101000020E61000000C022B87166958C0448B6CE7FB39...    NaN     NaN  1980\n",
       "2           2  257  1980-02-03 00:46:30.05    33.994    -97.463      5      NaN      NaN        NaN             NaN      LOVE        OGS      2.2      M3Hz      OGS NaN    NaN       1.9        NaN     NaN       2.2     2.0 NaN NaN  NaN      NaN     NaN      NaN  0101000020E61000001283C0CAA15D58C0AC1C5A643BFF...    NaN     NaN  1980\n",
       "3           3  258  1980-02-05 04:32:35.45    34.046    -97.451      5      NaN      NaN        NaN             NaN      LOVE        OGS      2.1      M3Hz      OGS NaN    NaN       2.3        NaN     NaN       2.1     1.9 NaN NaN  NaN        3     NaN      NaN  0101000020E6100000BE9F1A2FDD5C58C0D9CEF753E305...    NaN     NaN  1980\n",
       "4           4  259  1980-03-09 03:57:10.56    35.100    -95.100      5      NaN      NaN        NaN             NaN   HASKELL        OGS      1.2      M3Hz      OGS NaN    NaN       1.4        NaN     NaN       1.2     1.4 NaN NaN  NaN      NaN     NaN      NaN  0101000020E61000006666666666C657C0CDCCCCCCCC8C...    NaN     NaN  1980"
      ]
     },
     "execution_count": 4,
     "metadata": {},
     "output_type": "execute_result"
    }
   ],
   "source": [
    "eq_df.head()"
   ]
  },
  {
   "cell_type": "markdown",
   "metadata": {},
   "source": [
    "# Miscellaneous things to add to final notebook"
   ]
  },
  {
   "cell_type": "markdown",
   "metadata": {},
   "source": [
    "#0.1 Additional Imports"
   ]
  },
  {
   "cell_type": "code",
   "execution_count": 5,
   "metadata": {
    "collapsed": true
   },
   "outputs": [],
   "source": [
    "import datetime\n",
    "import statsmodels.api as sm"
   ]
  },
  {
   "cell_type": "markdown",
   "metadata": {},
   "source": [
    "#0.2 Poisson Process Code"
   ]
  },
  {
   "cell_type": "markdown",
   "metadata": {},
   "source": [
    "#0.2.1 No Recent Changes"
   ]
  },
  {
   "cell_type": "code",
   "execution_count": 6,
   "metadata": {
    "collapsed": true
   },
   "outputs": [],
   "source": [
    "#function to create list of interarrival times in hours from df \n",
    "#1\n",
    "def get_hours_between(df):\n",
    "    dates=[]\n",
    "    origintimes = df.origintime.values\n",
    "    for date in origintimes:\n",
    "        year, month, day = date.split('-')\n",
    "        day, hour = day.split(' ')\n",
    "        hour, minute, second = hour.split(':')\n",
    "        if len(second.split('.'))==2:\n",
    "            second, microsecond = second.split('.')\n",
    "        elif len(second.split('.'))==1:\n",
    "            microsecond=0\n",
    "        dates.append(datetime.datetime(int(year), int(month), int(day), int(hour), int(minute), \n",
    "                                       int(second), int(microsecond)))\n",
    "    dates=sorted(dates)\n",
    "    deltas=[]\n",
    "    for i in range(1,len(dates)):\n",
    "        delta = dates[i] - dates[i-1]\n",
    "        delta = delta.total_seconds()/3600\n",
    "        deltas.append(delta)\n",
    "    deltas = np.array(deltas)\n",
    "    return deltas"
   ]
  },
  {
   "cell_type": "markdown",
   "metadata": {},
   "source": [
    "#0.2.2 Recent Changes, Need to add to Final"
   ]
  },
  {
   "cell_type": "code",
   "execution_count": 38,
   "metadata": {
    "collapsed": false
   },
   "outputs": [],
   "source": [
    "#2\n",
    "#fit and plot exponential to data\n",
    "#k is manual assessment of number of parameters\n",
    "def fit_expo(deltas, bins=100, xmax=100, ymax=0.02, k=1):\n",
    "    #Use Maxmimum Likelihood Estimator to get exponential fit\n",
    "    expo_fit = sp.stats.expon.fit(deltas, floc=0)\n",
    "    \n",
    "    #Calculate Summary Statistics\n",
    "    mean = np.mean(deltas) #sample mean\n",
    "    lambd = expo_fit[1] #fitted mean\n",
    "    n = len(deltas)\n",
    "    ks_d, ks_pval=sp.stats.kstest(deltas, 'expon', alternative='two-sided')\n",
    "    ppstats = sp.stats.probplot(deltas, dist='expon')\n",
    "    r = ppstats[1][2]\n",
    "    r2 = r**2\n",
    "    log_lik = n*np.log(lambd) - 2*lambd*np.sum(deltas)\n",
    "    aic = 2*k - log_lik\n",
    "    \n",
    "    #Overlay fitted exponential over histogram\n",
    "    plt.hist(deltas, bins=bins, normed=True)\n",
    "    x = np.arange(0,xmax,0.01)\n",
    "    y = sp.stats.expon.pdf(x, scale=lambd)\n",
    "    plt.plot(x,y)\n",
    "    plt.xlim([0,xmax])\n",
    "    plt.ylim([0,ymax])\n",
    "    \n",
    "    #QQ Plot for fit to exponential\n",
    "    sm.qqplot(deltas, dist='expon', fit=True, line='45')\n",
    "    plt.show()\n",
    "    \n",
    "    #Print Summary Statistics\n",
    "    print \"lambda=\" + str(lambd)\n",
    "    print \"mean(data)=\" + str(mean)\n",
    "    print \"sample size=\" + str(n)\n",
    "    print \"Kolmogorov-Smirnov Test Statistic D=\" + str(ks_d)\n",
    "    print \"Kolmogorov-Smirnov Test p-value\" + str(ks_pval)\n",
    "    print \"QQ R^2 =\" + str(r2)\n",
    "    print \"AIC=\" + str(aic) + \"(NEED TO CHECK THIS IN R)\" \n",
    "    print \"AICc=\" \n",
    "    return(lambd, mean, n, ks_d, ks_pval, r2, aic)"
   ]
  },
  {
   "cell_type": "code",
   "execution_count": 22,
   "metadata": {
    "collapsed": false
   },
   "outputs": [
    {
     "data": {
      "text/plain": [
       "(-595.84111691664032, -595.84111691664032, 597.84111691664032)"
      ]
     },
     "execution_count": 22,
     "metadata": {},
     "output_type": "execute_result"
    }
   ],
   "source": [
    "k=1\n",
    "lambd=4\n",
    "x=np.array([25,2,123])\n",
    "n=len(x)\n",
    "log_lik = n*np.log(lambd) - lambd*np.sum(x)\n",
    "aic = 2*k - log_lik\n",
    "log_lik, log_lik2, aic"
   ]
  },
  {
   "cell_type": "code",
   "execution_count": 36,
   "metadata": {
    "collapsed": true
   },
   "outputs": [],
   "source": [
    "#3\n",
    "#get interarrival times for whole df\n",
    "def show_expo_fit(df, bins=40, xmax=10000, ymax=0.001):\n",
    "    deltas = get_hours_between(df)\n",
    "    fit = fit_expo(deltas, bins=bins, xmax=xmax, ymax=ymax)"
   ]
  },
  {
   "cell_type": "markdown",
   "metadata": {},
   "source": [
    "Note: Could also fit to Poisson\n",
    "\n",
    "Note: Look into \"fit\" algorithm in scipy, statsmodels\n",
    "\n",
    "Note: Is this the standard plot for showing distributional fit? \n",
    "\n",
    "Note: Need to look into understanding QQ Plots and Probability Plots\n",
    "\n",
    "Use AIC for comparing distributional fit.\n",
    "\n",
    "    *Starting Point: Given taht this is the correct distribution, what is the log-likelihood of the data?\n",
    "    \n",
    "    *if the number of data points is small, then some correction is often necessary (see AICc, below).\n",
    "    \n",
    "    *\\mathrm{AIC} = 2k - 2\\ln(L)\n",
    "    *Important websites: http://www.easydatascience.com\n",
    "    *http://stats.stackexchange.com/questions/31768/is-it-okay-to-compare-fitted-distributions-with-the-aic\n",
    "\n",
    "Look into nonparametric methods for simulating the distribution here.\n",
    "\n",
    "Look into this further: http://www.geos.ed.ac.uk/homes/abell5/Modelcode.html\n",
    "\n",
    "Power Law as a Model for Earthquakes"
   ]
  },
  {
   "cell_type": "code",
   "execution_count": 37,
   "metadata": {
    "collapsed": false
   },
   "outputs": [
    {
     "data": {
      "image/png": "[encoded data removed]",
      "text/plain": [
       "<matplotlib.figure.Figure at 0x10abc93d0>"
      ]
     },
     "metadata": {},
     "output_type": "display_data"
    },
    {
     "data": {
      "image/png": "[encoded data removed]",
      "text/plain": [
       "<matplotlib.figure.Figure at 0x10b260b10>"
      ]
     },
     "metadata": {},
     "output_type": "display_data"
    },
    {
     "name": "stdout",
     "output_type": "stream",
     "text": [
      "lambda=4048.4588911\n",
      "mean(data)=4048.45867622\n",
      "sample size=64\n",
      "Kolmogorov-Smirnov Test Statistic D=0.999999949153\n",
      "Kolmogorov-Smirnov Test p-value0.0\n",
      "QQ R^2 =0.966139571152\n",
      "AIC=1048960655.88(NEED TO CHECK THIS IN R)\n"
     ]
    }
   ],
   "source": [
    "show_expo_fit(eq_df[(eq_df.prefmag>=3) & (eq_df.year<2010)])"
   ]
  }
 ],
 "metadata": {
  "kernelspec": {
   "display_name": "Python 2",
   "language": "python",
   "name": "python2"
  },
  "language_info": {
   "codemirror_mode": {
    "name": "ipython",
    "version": 2
   },
   "file_extension": ".py",
   "mimetype": "text/x-python",
   "name": "python",
   "nbconvert_exporter": "python",
   "pygments_lexer": "ipython2",
   "version": "2.7.10"
  }
 },
 "nbformat": 4,
 "nbformat_minor": 0
}
