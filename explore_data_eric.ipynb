{
 "cells": [
  {
   "cell_type": "code",
   "execution_count": 2,
   "metadata": {
    "collapsed": false
   },
   "outputs": [
    {
     "name": "stderr",
     "output_type": "stream",
     "text": [
      "//anaconda/lib/python2.7/site-packages/matplotlib/__init__.py:872: UserWarning: axes.color_cycle is deprecated and replaced with axes.prop_cycle; please use the latter.\n",
      "  warnings.warn(self.msg_depr % (key, alt_key))\n"
     ]
    }
   ],
   "source": [
    "%matplotlib inline\n",
    "import numpy as np\n",
    "import scipy as sp\n",
    "import json\n",
    "import matplotlib as mpl\n",
    "import matplotlib.cm as cm\n",
    "import matplotlib.pyplot as plt\n",
    "import pandas as pd\n",
    "from pyquery import PyQuery as pq\n",
    "import requests\n",
    "pd.set_option('display.width', 500)\n",
    "pd.set_option('display.max_columns', 100)\n",
    "pd.set_option('display.notebook_repr_html', True)\n",
    "import seaborn as sns\n",
    "sns.set_style(\"whitegrid\")\n",
    "sns.set_context(\"poster\")"
   ]
  },
  {
   "cell_type": "code",
   "execution_count": 3,
   "metadata": {
    "collapsed": false
   },
   "outputs": [
    {
     "data": {
      "text/html": [
       "<div>\n",
       "<table border=\"1\" class=\"dataframe\">\n",
       "  <thead>\n",
       "    <tr style=\"text-align: right;\">\n",
       "      <th></th>\n",
       "      <th>id</th>\n",
       "      <th>origintime</th>\n",
       "      <th>latitude</th>\n",
       "      <th>longitude</th>\n",
       "      <th>depth</th>\n",
       "      <th>err_lon</th>\n",
       "      <th>err_lat</th>\n",
       "      <th>err_depth</th>\n",
       "      <th>err_origintime</th>\n",
       "      <th>county</th>\n",
       "      <th>origin_src</th>\n",
       "      <th>prefmag</th>\n",
       "      <th>pmag_type</th>\n",
       "      <th>pmag_src</th>\n",
       "      <th>mw</th>\n",
       "      <th>mw_src</th>\n",
       "      <th>mblg_ogs</th>\n",
       "      <th>mblg_usgs</th>\n",
       "      <th>ml_ogs</th>\n",
       "      <th>m3hz_ogs</th>\n",
       "      <th>md_ogs</th>\n",
       "      <th>mb</th>\n",
       "      <th>ms</th>\n",
       "      <th>mfa</th>\n",
       "      <th>max_mmi</th>\n",
       "      <th>reafile</th>\n",
       "      <th>reamtime</th>\n",
       "      <th>geom</th>\n",
       "      <th>pdlid</th>\n",
       "      <th>mw_ogs</th>\n",
       "    </tr>\n",
       "  </thead>\n",
       "  <tbody>\n",
       "    <tr>\n",
       "      <th>0</th>\n",
       "      <td>255</td>\n",
       "      <td>1980-01-05 07:11:31.21</td>\n",
       "      <td>35.586</td>\n",
       "      <td>-97.894</td>\n",
       "      <td>5</td>\n",
       "      <td>NaN</td>\n",
       "      <td>NaN</td>\n",
       "      <td>NaN</td>\n",
       "      <td>NaN</td>\n",
       "      <td>CANADIAN</td>\n",
       "      <td>OGS</td>\n",
       "      <td>1.9</td>\n",
       "      <td>M3Hz</td>\n",
       "      <td>OGS</td>\n",
       "      <td>NaN</td>\n",
       "      <td>NaN</td>\n",
       "      <td>1.6</td>\n",
       "      <td>NaN</td>\n",
       "      <td>NaN</td>\n",
       "      <td>1.9</td>\n",
       "      <td>1.7</td>\n",
       "      <td>NaN</td>\n",
       "      <td>NaN</td>\n",
       "      <td>NaN</td>\n",
       "      <td>NaN</td>\n",
       "      <td>NaN</td>\n",
       "      <td>NaN</td>\n",
       "      <td>0101000020E6100000F0A7C64B377958C05EBA490C02CB...</td>\n",
       "      <td>NaN</td>\n",
       "      <td>NaN</td>\n",
       "    </tr>\n",
       "    <tr>\n",
       "      <th>1</th>\n",
       "      <td>256</td>\n",
       "      <td>1980-01-12 07:12:56.45</td>\n",
       "      <td>36.453</td>\n",
       "      <td>-97.642</td>\n",
       "      <td>5</td>\n",
       "      <td>NaN</td>\n",
       "      <td>NaN</td>\n",
       "      <td>NaN</td>\n",
       "      <td>NaN</td>\n",
       "      <td>GARFIELD</td>\n",
       "      <td>OGS</td>\n",
       "      <td>1.7</td>\n",
       "      <td>M3Hz</td>\n",
       "      <td>OGS</td>\n",
       "      <td>NaN</td>\n",
       "      <td>NaN</td>\n",
       "      <td>NaN</td>\n",
       "      <td>NaN</td>\n",
       "      <td>NaN</td>\n",
       "      <td>1.7</td>\n",
       "      <td>1.4</td>\n",
       "      <td>NaN</td>\n",
       "      <td>NaN</td>\n",
       "      <td>NaN</td>\n",
       "      <td>NaN</td>\n",
       "      <td>NaN</td>\n",
       "      <td>NaN</td>\n",
       "      <td>0101000020E61000000C022B87166958C0448B6CE7FB39...</td>\n",
       "      <td>NaN</td>\n",
       "      <td>NaN</td>\n",
       "    </tr>\n",
       "    <tr>\n",
       "      <th>2</th>\n",
       "      <td>257</td>\n",
       "      <td>1980-02-03 00:46:30.05</td>\n",
       "      <td>33.994</td>\n",
       "      <td>-97.463</td>\n",
       "      <td>5</td>\n",
       "      <td>NaN</td>\n",
       "      <td>NaN</td>\n",
       "      <td>NaN</td>\n",
       "      <td>NaN</td>\n",
       "      <td>LOVE</td>\n",
       "      <td>OGS</td>\n",
       "      <td>2.2</td>\n",
       "      <td>M3Hz</td>\n",
       "      <td>OGS</td>\n",
       "      <td>NaN</td>\n",
       "      <td>NaN</td>\n",
       "      <td>1.9</td>\n",
       "      <td>NaN</td>\n",
       "      <td>NaN</td>\n",
       "      <td>2.2</td>\n",
       "      <td>2.0</td>\n",
       "      <td>NaN</td>\n",
       "      <td>NaN</td>\n",
       "      <td>NaN</td>\n",
       "      <td>NaN</td>\n",
       "      <td>NaN</td>\n",
       "      <td>NaN</td>\n",
       "      <td>0101000020E61000001283C0CAA15D58C0AC1C5A643BFF...</td>\n",
       "      <td>NaN</td>\n",
       "      <td>NaN</td>\n",
       "    </tr>\n",
       "    <tr>\n",
       "      <th>3</th>\n",
       "      <td>258</td>\n",
       "      <td>1980-02-05 04:32:35.45</td>\n",
       "      <td>34.046</td>\n",
       "      <td>-97.451</td>\n",
       "      <td>5</td>\n",
       "      <td>NaN</td>\n",
       "      <td>NaN</td>\n",
       "      <td>NaN</td>\n",
       "      <td>NaN</td>\n",
       "      <td>LOVE</td>\n",
       "      <td>OGS</td>\n",
       "      <td>2.1</td>\n",
       "      <td>M3Hz</td>\n",
       "      <td>OGS</td>\n",
       "      <td>NaN</td>\n",
       "      <td>NaN</td>\n",
       "      <td>2.3</td>\n",
       "      <td>NaN</td>\n",
       "      <td>NaN</td>\n",
       "      <td>2.1</td>\n",
       "      <td>1.9</td>\n",
       "      <td>NaN</td>\n",
       "      <td>NaN</td>\n",
       "      <td>NaN</td>\n",
       "      <td>3</td>\n",
       "      <td>NaN</td>\n",
       "      <td>NaN</td>\n",
       "      <td>0101000020E6100000BE9F1A2FDD5C58C0D9CEF753E305...</td>\n",
       "      <td>NaN</td>\n",
       "      <td>NaN</td>\n",
       "    </tr>\n",
       "    <tr>\n",
       "      <th>4</th>\n",
       "      <td>259</td>\n",
       "      <td>1980-03-09 03:57:10.56</td>\n",
       "      <td>35.100</td>\n",
       "      <td>-95.100</td>\n",
       "      <td>5</td>\n",
       "      <td>NaN</td>\n",
       "      <td>NaN</td>\n",
       "      <td>NaN</td>\n",
       "      <td>NaN</td>\n",
       "      <td>HASKELL</td>\n",
       "      <td>OGS</td>\n",
       "      <td>1.2</td>\n",
       "      <td>M3Hz</td>\n",
       "      <td>OGS</td>\n",
       "      <td>NaN</td>\n",
       "      <td>NaN</td>\n",
       "      <td>1.4</td>\n",
       "      <td>NaN</td>\n",
       "      <td>NaN</td>\n",
       "      <td>1.2</td>\n",
       "      <td>1.4</td>\n",
       "      <td>NaN</td>\n",
       "      <td>NaN</td>\n",
       "      <td>NaN</td>\n",
       "      <td>NaN</td>\n",
       "      <td>NaN</td>\n",
       "      <td>NaN</td>\n",
       "      <td>0101000020E61000006666666666C657C0CDCCCCCCCC8C...</td>\n",
       "      <td>NaN</td>\n",
       "      <td>NaN</td>\n",
       "    </tr>\n",
       "    <tr>\n",
       "      <th>5</th>\n",
       "      <td>260</td>\n",
       "      <td>1980-03-17 14:02:31.21</td>\n",
       "      <td>35.047</td>\n",
       "      <td>-97.566</td>\n",
       "      <td>5</td>\n",
       "      <td>NaN</td>\n",
       "      <td>NaN</td>\n",
       "      <td>NaN</td>\n",
       "      <td>NaN</td>\n",
       "      <td>MCCLAIN</td>\n",
       "      <td>OGS</td>\n",
       "      <td>2.3</td>\n",
       "      <td>M3Hz</td>\n",
       "      <td>OGS</td>\n",
       "      <td>NaN</td>\n",
       "      <td>NaN</td>\n",
       "      <td>2.2</td>\n",
       "      <td>NaN</td>\n",
       "      <td>NaN</td>\n",
       "      <td>2.3</td>\n",
       "      <td>1.9</td>\n",
       "      <td>NaN</td>\n",
       "      <td>NaN</td>\n",
       "      <td>NaN</td>\n",
       "      <td>NaN</td>\n",
       "      <td>NaN</td>\n",
       "      <td>NaN</td>\n",
       "      <td>0101000020E61000004E621058396458C0BC7493180486...</td>\n",
       "      <td>NaN</td>\n",
       "      <td>NaN</td>\n",
       "    </tr>\n",
       "    <tr>\n",
       "      <th>6</th>\n",
       "      <td>261</td>\n",
       "      <td>1980-03-19 22:50:57.93</td>\n",
       "      <td>34.980</td>\n",
       "      <td>-97.644</td>\n",
       "      <td>5</td>\n",
       "      <td>NaN</td>\n",
       "      <td>NaN</td>\n",
       "      <td>NaN</td>\n",
       "      <td>NaN</td>\n",
       "      <td>MCCLAIN</td>\n",
       "      <td>OGS</td>\n",
       "      <td>2.4</td>\n",
       "      <td>M3Hz</td>\n",
       "      <td>OGS</td>\n",
       "      <td>NaN</td>\n",
       "      <td>NaN</td>\n",
       "      <td>2.4</td>\n",
       "      <td>NaN</td>\n",
       "      <td>NaN</td>\n",
       "      <td>2.4</td>\n",
       "      <td>2.0</td>\n",
       "      <td>NaN</td>\n",
       "      <td>NaN</td>\n",
       "      <td>NaN</td>\n",
       "      <td>NaN</td>\n",
       "      <td>NaN</td>\n",
       "      <td>NaN</td>\n",
       "      <td>0101000020E6100000F0A7C64B376958C03D0AD7A3707D...</td>\n",
       "      <td>NaN</td>\n",
       "      <td>NaN</td>\n",
       "    </tr>\n",
       "    <tr>\n",
       "      <th>7</th>\n",
       "      <td>262</td>\n",
       "      <td>1980-03-23 07:49:01.56</td>\n",
       "      <td>36.655</td>\n",
       "      <td>-97.391</td>\n",
       "      <td>5</td>\n",
       "      <td>NaN</td>\n",
       "      <td>NaN</td>\n",
       "      <td>NaN</td>\n",
       "      <td>NaN</td>\n",
       "      <td>KAY</td>\n",
       "      <td>OGS</td>\n",
       "      <td>1.4</td>\n",
       "      <td>mbLg</td>\n",
       "      <td>OGS</td>\n",
       "      <td>NaN</td>\n",
       "      <td>NaN</td>\n",
       "      <td>1.4</td>\n",
       "      <td>NaN</td>\n",
       "      <td>NaN</td>\n",
       "      <td>NaN</td>\n",
       "      <td>1.4</td>\n",
       "      <td>NaN</td>\n",
       "      <td>NaN</td>\n",
       "      <td>NaN</td>\n",
       "      <td>NaN</td>\n",
       "      <td>NaN</td>\n",
       "      <td>NaN</td>\n",
       "      <td>0101000020E61000001B2FDD24065958C0A4703D0AD753...</td>\n",
       "      <td>NaN</td>\n",
       "      <td>NaN</td>\n",
       "    </tr>\n",
       "    <tr>\n",
       "      <th>8</th>\n",
       "      <td>263</td>\n",
       "      <td>1980-04-01 21:16:32.26</td>\n",
       "      <td>34.726</td>\n",
       "      <td>-96.762</td>\n",
       "      <td>5</td>\n",
       "      <td>NaN</td>\n",
       "      <td>NaN</td>\n",
       "      <td>NaN</td>\n",
       "      <td>NaN</td>\n",
       "      <td>PONTOTOC</td>\n",
       "      <td>OGS</td>\n",
       "      <td>1.9</td>\n",
       "      <td>M3Hz</td>\n",
       "      <td>OGS</td>\n",
       "      <td>NaN</td>\n",
       "      <td>NaN</td>\n",
       "      <td>1.8</td>\n",
       "      <td>NaN</td>\n",
       "      <td>NaN</td>\n",
       "      <td>1.9</td>\n",
       "      <td>1.8</td>\n",
       "      <td>NaN</td>\n",
       "      <td>NaN</td>\n",
       "      <td>NaN</td>\n",
       "      <td>NaN</td>\n",
       "      <td>NaN</td>\n",
       "      <td>NaN</td>\n",
       "      <td>0101000020E610000054E3A59BC43058C0B0726891ED5C...</td>\n",
       "      <td>NaN</td>\n",
       "      <td>NaN</td>\n",
       "    </tr>\n",
       "    <tr>\n",
       "      <th>9</th>\n",
       "      <td>264</td>\n",
       "      <td>1980-04-08 19:18:06.93</td>\n",
       "      <td>35.165</td>\n",
       "      <td>-95.301</td>\n",
       "      <td>5</td>\n",
       "      <td>NaN</td>\n",
       "      <td>NaN</td>\n",
       "      <td>NaN</td>\n",
       "      <td>NaN</td>\n",
       "      <td>HASKELL</td>\n",
       "      <td>OGS</td>\n",
       "      <td>2.1</td>\n",
       "      <td>M3Hz</td>\n",
       "      <td>OGS</td>\n",
       "      <td>NaN</td>\n",
       "      <td>NaN</td>\n",
       "      <td>NaN</td>\n",
       "      <td>NaN</td>\n",
       "      <td>NaN</td>\n",
       "      <td>2.1</td>\n",
       "      <td>2.1</td>\n",
       "      <td>NaN</td>\n",
       "      <td>NaN</td>\n",
       "      <td>NaN</td>\n",
       "      <td>NaN</td>\n",
       "      <td>NaN</td>\n",
       "      <td>NaN</td>\n",
       "      <td>0101000020E61000002506819543D357C085EB51B81E95...</td>\n",
       "      <td>NaN</td>\n",
       "      <td>NaN</td>\n",
       "    </tr>\n",
       "    <tr>\n",
       "      <th>10</th>\n",
       "      <td>265</td>\n",
       "      <td>1980-04-29 19:59:51.18</td>\n",
       "      <td>34.578</td>\n",
       "      <td>-97.285</td>\n",
       "      <td>5</td>\n",
       "      <td>NaN</td>\n",
       "      <td>NaN</td>\n",
       "      <td>NaN</td>\n",
       "      <td>NaN</td>\n",
       "      <td>GARVIN</td>\n",
       "      <td>OGS</td>\n",
       "      <td>2.0</td>\n",
       "      <td>M3Hz</td>\n",
       "      <td>OGS</td>\n",
       "      <td>NaN</td>\n",
       "      <td>NaN</td>\n",
       "      <td>2.4</td>\n",
       "      <td>NaN</td>\n",
       "      <td>NaN</td>\n",
       "      <td>2.0</td>\n",
       "      <td>1.8</td>\n",
       "      <td>NaN</td>\n",
       "      <td>NaN</td>\n",
       "      <td>NaN</td>\n",
       "      <td>NaN</td>\n",
       "      <td>NaN</td>\n",
       "      <td>NaN</td>\n",
       "      <td>0101000020E61000000AD7A3703D5258C0448B6CE7FB49...</td>\n",
       "      <td>NaN</td>\n",
       "      <td>NaN</td>\n",
       "    </tr>\n",
       "    <tr>\n",
       "      <th>11</th>\n",
       "      <td>266</td>\n",
       "      <td>1980-05-28 04:05:45.65</td>\n",
       "      <td>36.168</td>\n",
       "      <td>-97.602</td>\n",
       "      <td>5</td>\n",
       "      <td>NaN</td>\n",
       "      <td>NaN</td>\n",
       "      <td>NaN</td>\n",
       "      <td>NaN</td>\n",
       "      <td>GARFIELD</td>\n",
       "      <td>OGS</td>\n",
       "      <td>1.8</td>\n",
       "      <td>M3Hz</td>\n",
       "      <td>OGS</td>\n",
       "      <td>NaN</td>\n",
       "      <td>NaN</td>\n",
       "      <td>NaN</td>\n",
       "      <td>NaN</td>\n",
       "      <td>NaN</td>\n",
       "      <td>1.8</td>\n",
       "      <td>NaN</td>\n",
       "      <td>NaN</td>\n",
       "      <td>NaN</td>\n",
       "      <td>NaN</td>\n",
       "      <td>NaN</td>\n",
       "      <td>NaN</td>\n",
       "      <td>NaN</td>\n",
       "      <td>0101000020E61000004A0C022B876658C02FDD24068115...</td>\n",
       "      <td>NaN</td>\n",
       "      <td>NaN</td>\n",
       "    </tr>\n",
       "    <tr>\n",
       "      <th>12</th>\n",
       "      <td>267</td>\n",
       "      <td>1980-05-30 07:44:02.72</td>\n",
       "      <td>35.512</td>\n",
       "      <td>-99.390</td>\n",
       "      <td>5</td>\n",
       "      <td>NaN</td>\n",
       "      <td>NaN</td>\n",
       "      <td>NaN</td>\n",
       "      <td>NaN</td>\n",
       "      <td>ROGER MILLS</td>\n",
       "      <td>OGS</td>\n",
       "      <td>3.0</td>\n",
       "      <td>M3Hz</td>\n",
       "      <td>OGS</td>\n",
       "      <td>NaN</td>\n",
       "      <td>NaN</td>\n",
       "      <td>2.6</td>\n",
       "      <td>NaN</td>\n",
       "      <td>NaN</td>\n",
       "      <td>3.0</td>\n",
       "      <td>2.5</td>\n",
       "      <td>NaN</td>\n",
       "      <td>NaN</td>\n",
       "      <td>NaN</td>\n",
       "      <td>NaN</td>\n",
       "      <td>NaN</td>\n",
       "      <td>NaN</td>\n",
       "      <td>0101000020E6100000295C8FC2F5D858C0A8C64B3789C1...</td>\n",
       "      <td>NaN</td>\n",
       "      <td>NaN</td>\n",
       "    </tr>\n",
       "    <tr>\n",
       "      <th>13</th>\n",
       "      <td>268</td>\n",
       "      <td>1980-06-03 21:41:50.31</td>\n",
       "      <td>35.000</td>\n",
       "      <td>-94.932</td>\n",
       "      <td>5</td>\n",
       "      <td>NaN</td>\n",
       "      <td>NaN</td>\n",
       "      <td>NaN</td>\n",
       "      <td>NaN</td>\n",
       "      <td>LATIMER</td>\n",
       "      <td>OGS</td>\n",
       "      <td>2.3</td>\n",
       "      <td>M3Hz</td>\n",
       "      <td>OGS</td>\n",
       "      <td>NaN</td>\n",
       "      <td>NaN</td>\n",
       "      <td>2.1</td>\n",
       "      <td>NaN</td>\n",
       "      <td>NaN</td>\n",
       "      <td>2.3</td>\n",
       "      <td>1.7</td>\n",
       "      <td>NaN</td>\n",
       "      <td>NaN</td>\n",
       "      <td>NaN</td>\n",
       "      <td>NaN</td>\n",
       "      <td>NaN</td>\n",
       "      <td>NaN</td>\n",
       "      <td>0101000020E6100000CFF753E3A5BB57C0000000000080...</td>\n",
       "      <td>NaN</td>\n",
       "      <td>NaN</td>\n",
       "    </tr>\n",
       "    <tr>\n",
       "      <th>14</th>\n",
       "      <td>269</td>\n",
       "      <td>1980-06-06 01:31:27.86</td>\n",
       "      <td>35.402</td>\n",
       "      <td>-97.983</td>\n",
       "      <td>5</td>\n",
       "      <td>NaN</td>\n",
       "      <td>NaN</td>\n",
       "      <td>NaN</td>\n",
       "      <td>NaN</td>\n",
       "      <td>CANADIAN</td>\n",
       "      <td>OGS</td>\n",
       "      <td>2.6</td>\n",
       "      <td>M3Hz</td>\n",
       "      <td>OGS</td>\n",
       "      <td>NaN</td>\n",
       "      <td>NaN</td>\n",
       "      <td>2.3</td>\n",
       "      <td>NaN</td>\n",
       "      <td>NaN</td>\n",
       "      <td>2.6</td>\n",
       "      <td>2.2</td>\n",
       "      <td>NaN</td>\n",
       "      <td>NaN</td>\n",
       "      <td>NaN</td>\n",
       "      <td>NaN</td>\n",
       "      <td>NaN</td>\n",
       "      <td>NaN</td>\n",
       "      <td>0101000020E6100000F4FDD478E97E58C0FA7E6ABC74B3...</td>\n",
       "      <td>NaN</td>\n",
       "      <td>NaN</td>\n",
       "    </tr>\n",
       "    <tr>\n",
       "      <th>15</th>\n",
       "      <td>270</td>\n",
       "      <td>1980-06-06 03:18:12.45</td>\n",
       "      <td>36.039</td>\n",
       "      <td>-97.570</td>\n",
       "      <td>5</td>\n",
       "      <td>NaN</td>\n",
       "      <td>NaN</td>\n",
       "      <td>NaN</td>\n",
       "      <td>NaN</td>\n",
       "      <td>LOGAN</td>\n",
       "      <td>OGS</td>\n",
       "      <td>1.5</td>\n",
       "      <td>M3Hz</td>\n",
       "      <td>OGS</td>\n",
       "      <td>NaN</td>\n",
       "      <td>NaN</td>\n",
       "      <td>NaN</td>\n",
       "      <td>NaN</td>\n",
       "      <td>NaN</td>\n",
       "      <td>1.5</td>\n",
       "      <td>NaN</td>\n",
       "      <td>NaN</td>\n",
       "      <td>NaN</td>\n",
       "      <td>NaN</td>\n",
       "      <td>NaN</td>\n",
       "      <td>NaN</td>\n",
       "      <td>NaN</td>\n",
       "      <td>0101000020E610000014AE47E17A6458C0A245B6F3FD04...</td>\n",
       "      <td>NaN</td>\n",
       "      <td>NaN</td>\n",
       "    </tr>\n",
       "    <tr>\n",
       "      <th>16</th>\n",
       "      <td>271</td>\n",
       "      <td>1980-06-08 23:33:34.3</td>\n",
       "      <td>33.940</td>\n",
       "      <td>-97.323</td>\n",
       "      <td>5</td>\n",
       "      <td>NaN</td>\n",
       "      <td>NaN</td>\n",
       "      <td>NaN</td>\n",
       "      <td>NaN</td>\n",
       "      <td>LOVE</td>\n",
       "      <td>OGS</td>\n",
       "      <td>2.1</td>\n",
       "      <td>M3Hz</td>\n",
       "      <td>OGS</td>\n",
       "      <td>NaN</td>\n",
       "      <td>NaN</td>\n",
       "      <td>1.9</td>\n",
       "      <td>NaN</td>\n",
       "      <td>NaN</td>\n",
       "      <td>2.1</td>\n",
       "      <td>1.7</td>\n",
       "      <td>NaN</td>\n",
       "      <td>NaN</td>\n",
       "      <td>NaN</td>\n",
       "      <td>NaN</td>\n",
       "      <td>NaN</td>\n",
       "      <td>NaN</td>\n",
       "      <td>0101000020E6100000E9263108AC5458C0B81E85EB51F8...</td>\n",
       "      <td>NaN</td>\n",
       "      <td>NaN</td>\n",
       "    </tr>\n",
       "    <tr>\n",
       "      <th>17</th>\n",
       "      <td>272</td>\n",
       "      <td>1980-06-09 05:50:42.2</td>\n",
       "      <td>33.940</td>\n",
       "      <td>-97.417</td>\n",
       "      <td>5</td>\n",
       "      <td>NaN</td>\n",
       "      <td>NaN</td>\n",
       "      <td>NaN</td>\n",
       "      <td>NaN</td>\n",
       "      <td>LOVE</td>\n",
       "      <td>OGS</td>\n",
       "      <td>1.8</td>\n",
       "      <td>mbLg</td>\n",
       "      <td>OGS</td>\n",
       "      <td>NaN</td>\n",
       "      <td>NaN</td>\n",
       "      <td>1.8</td>\n",
       "      <td>NaN</td>\n",
       "      <td>NaN</td>\n",
       "      <td>NaN</td>\n",
       "      <td>1.4</td>\n",
       "      <td>NaN</td>\n",
       "      <td>NaN</td>\n",
       "      <td>NaN</td>\n",
       "      <td>NaN</td>\n",
       "      <td>NaN</td>\n",
       "      <td>NaN</td>\n",
       "      <td>0101000020E6100000A69BC420B05A58C0B81E85EB51F8...</td>\n",
       "      <td>NaN</td>\n",
       "      <td>NaN</td>\n",
       "    </tr>\n",
       "    <tr>\n",
       "      <th>18</th>\n",
       "      <td>273</td>\n",
       "      <td>1980-06-15 12:50:51.95</td>\n",
       "      <td>34.728</td>\n",
       "      <td>-95.778</td>\n",
       "      <td>5</td>\n",
       "      <td>NaN</td>\n",
       "      <td>NaN</td>\n",
       "      <td>NaN</td>\n",
       "      <td>NaN</td>\n",
       "      <td>PITTSBURG</td>\n",
       "      <td>OGS</td>\n",
       "      <td>1.2</td>\n",
       "      <td>Md</td>\n",
       "      <td>OGS</td>\n",
       "      <td>NaN</td>\n",
       "      <td>NaN</td>\n",
       "      <td>NaN</td>\n",
       "      <td>NaN</td>\n",
       "      <td>NaN</td>\n",
       "      <td>NaN</td>\n",
       "      <td>1.2</td>\n",
       "      <td>NaN</td>\n",
       "      <td>NaN</td>\n",
       "      <td>NaN</td>\n",
       "      <td>NaN</td>\n",
       "      <td>NaN</td>\n",
       "      <td>NaN</td>\n",
       "      <td>0101000020E61000006F1283C0CAF157C077BE9F1A2F5D...</td>\n",
       "      <td>NaN</td>\n",
       "      <td>NaN</td>\n",
       "    </tr>\n",
       "    <tr>\n",
       "      <th>19</th>\n",
       "      <td>274</td>\n",
       "      <td>1980-07-08 01:34:44.01</td>\n",
       "      <td>34.002</td>\n",
       "      <td>-97.354</td>\n",
       "      <td>5</td>\n",
       "      <td>NaN</td>\n",
       "      <td>NaN</td>\n",
       "      <td>NaN</td>\n",
       "      <td>NaN</td>\n",
       "      <td>LOVE</td>\n",
       "      <td>OGS</td>\n",
       "      <td>2.3</td>\n",
       "      <td>M3Hz</td>\n",
       "      <td>OGS</td>\n",
       "      <td>NaN</td>\n",
       "      <td>NaN</td>\n",
       "      <td>2.5</td>\n",
       "      <td>NaN</td>\n",
       "      <td>NaN</td>\n",
       "      <td>2.3</td>\n",
       "      <td>2.4</td>\n",
       "      <td>NaN</td>\n",
       "      <td>NaN</td>\n",
       "      <td>NaN</td>\n",
       "      <td>NaN</td>\n",
       "      <td>NaN</td>\n",
       "      <td>NaN</td>\n",
       "      <td>0101000020E61000002DB29DEFA75658C0C74B37894100...</td>\n",
       "      <td>NaN</td>\n",
       "      <td>NaN</td>\n",
       "    </tr>\n",
       "  </tbody>\n",
       "</table>\n",
       "</div>"
      ],
      "text/plain": [
       "     id              origintime  latitude  longitude  depth  err_lon  err_lat  err_depth  err_origintime       county origin_src  prefmag pmag_type pmag_src  mw mw_src  mblg_ogs  mblg_usgs  ml_ogs  m3hz_ogs  md_ogs  mb  ms  mfa  max_mmi reafile reamtime                                               geom  pdlid  mw_ogs\n",
       "0   255  1980-01-05 07:11:31.21    35.586    -97.894      5      NaN      NaN        NaN             NaN     CANADIAN        OGS      1.9      M3Hz      OGS NaN    NaN       1.6        NaN     NaN       1.9     1.7 NaN NaN  NaN      NaN     NaN      NaN  0101000020E6100000F0A7C64B377958C05EBA490C02CB...    NaN     NaN\n",
       "1   256  1980-01-12 07:12:56.45    36.453    -97.642      5      NaN      NaN        NaN             NaN     GARFIELD        OGS      1.7      M3Hz      OGS NaN    NaN       NaN        NaN     NaN       1.7     1.4 NaN NaN  NaN      NaN     NaN      NaN  0101000020E61000000C022B87166958C0448B6CE7FB39...    NaN     NaN\n",
       "2   257  1980-02-03 00:46:30.05    33.994    -97.463      5      NaN      NaN        NaN             NaN         LOVE        OGS      2.2      M3Hz      OGS NaN    NaN       1.9        NaN     NaN       2.2     2.0 NaN NaN  NaN      NaN     NaN      NaN  0101000020E61000001283C0CAA15D58C0AC1C5A643BFF...    NaN     NaN\n",
       "3   258  1980-02-05 04:32:35.45    34.046    -97.451      5      NaN      NaN        NaN             NaN         LOVE        OGS      2.1      M3Hz      OGS NaN    NaN       2.3        NaN     NaN       2.1     1.9 NaN NaN  NaN        3     NaN      NaN  0101000020E6100000BE9F1A2FDD5C58C0D9CEF753E305...    NaN     NaN\n",
       "4   259  1980-03-09 03:57:10.56    35.100    -95.100      5      NaN      NaN        NaN             NaN      HASKELL        OGS      1.2      M3Hz      OGS NaN    NaN       1.4        NaN     NaN       1.2     1.4 NaN NaN  NaN      NaN     NaN      NaN  0101000020E61000006666666666C657C0CDCCCCCCCC8C...    NaN     NaN\n",
       "5   260  1980-03-17 14:02:31.21    35.047    -97.566      5      NaN      NaN        NaN             NaN      MCCLAIN        OGS      2.3      M3Hz      OGS NaN    NaN       2.2        NaN     NaN       2.3     1.9 NaN NaN  NaN      NaN     NaN      NaN  0101000020E61000004E621058396458C0BC7493180486...    NaN     NaN\n",
       "6   261  1980-03-19 22:50:57.93    34.980    -97.644      5      NaN      NaN        NaN             NaN      MCCLAIN        OGS      2.4      M3Hz      OGS NaN    NaN       2.4        NaN     NaN       2.4     2.0 NaN NaN  NaN      NaN     NaN      NaN  0101000020E6100000F0A7C64B376958C03D0AD7A3707D...    NaN     NaN\n",
       "7   262  1980-03-23 07:49:01.56    36.655    -97.391      5      NaN      NaN        NaN             NaN          KAY        OGS      1.4      mbLg      OGS NaN    NaN       1.4        NaN     NaN       NaN     1.4 NaN NaN  NaN      NaN     NaN      NaN  0101000020E61000001B2FDD24065958C0A4703D0AD753...    NaN     NaN\n",
       "8   263  1980-04-01 21:16:32.26    34.726    -96.762      5      NaN      NaN        NaN             NaN     PONTOTOC        OGS      1.9      M3Hz      OGS NaN    NaN       1.8        NaN     NaN       1.9     1.8 NaN NaN  NaN      NaN     NaN      NaN  0101000020E610000054E3A59BC43058C0B0726891ED5C...    NaN     NaN\n",
       "9   264  1980-04-08 19:18:06.93    35.165    -95.301      5      NaN      NaN        NaN             NaN      HASKELL        OGS      2.1      M3Hz      OGS NaN    NaN       NaN        NaN     NaN       2.1     2.1 NaN NaN  NaN      NaN     NaN      NaN  0101000020E61000002506819543D357C085EB51B81E95...    NaN     NaN\n",
       "10  265  1980-04-29 19:59:51.18    34.578    -97.285      5      NaN      NaN        NaN             NaN       GARVIN        OGS      2.0      M3Hz      OGS NaN    NaN       2.4        NaN     NaN       2.0     1.8 NaN NaN  NaN      NaN     NaN      NaN  0101000020E61000000AD7A3703D5258C0448B6CE7FB49...    NaN     NaN\n",
       "11  266  1980-05-28 04:05:45.65    36.168    -97.602      5      NaN      NaN        NaN             NaN     GARFIELD        OGS      1.8      M3Hz      OGS NaN    NaN       NaN        NaN     NaN       1.8     NaN NaN NaN  NaN      NaN     NaN      NaN  0101000020E61000004A0C022B876658C02FDD24068115...    NaN     NaN\n",
       "12  267  1980-05-30 07:44:02.72    35.512    -99.390      5      NaN      NaN        NaN             NaN  ROGER MILLS        OGS      3.0      M3Hz      OGS NaN    NaN       2.6        NaN     NaN       3.0     2.5 NaN NaN  NaN      NaN     NaN      NaN  0101000020E6100000295C8FC2F5D858C0A8C64B3789C1...    NaN     NaN\n",
       "13  268  1980-06-03 21:41:50.31    35.000    -94.932      5      NaN      NaN        NaN             NaN      LATIMER        OGS      2.3      M3Hz      OGS NaN    NaN       2.1        NaN     NaN       2.3     1.7 NaN NaN  NaN      NaN     NaN      NaN  0101000020E6100000CFF753E3A5BB57C0000000000080...    NaN     NaN\n",
       "14  269  1980-06-06 01:31:27.86    35.402    -97.983      5      NaN      NaN        NaN             NaN     CANADIAN        OGS      2.6      M3Hz      OGS NaN    NaN       2.3        NaN     NaN       2.6     2.2 NaN NaN  NaN      NaN     NaN      NaN  0101000020E6100000F4FDD478E97E58C0FA7E6ABC74B3...    NaN     NaN\n",
       "15  270  1980-06-06 03:18:12.45    36.039    -97.570      5      NaN      NaN        NaN             NaN        LOGAN        OGS      1.5      M3Hz      OGS NaN    NaN       NaN        NaN     NaN       1.5     NaN NaN NaN  NaN      NaN     NaN      NaN  0101000020E610000014AE47E17A6458C0A245B6F3FD04...    NaN     NaN\n",
       "16  271   1980-06-08 23:33:34.3    33.940    -97.323      5      NaN      NaN        NaN             NaN         LOVE        OGS      2.1      M3Hz      OGS NaN    NaN       1.9        NaN     NaN       2.1     1.7 NaN NaN  NaN      NaN     NaN      NaN  0101000020E6100000E9263108AC5458C0B81E85EB51F8...    NaN     NaN\n",
       "17  272   1980-06-09 05:50:42.2    33.940    -97.417      5      NaN      NaN        NaN             NaN         LOVE        OGS      1.8      mbLg      OGS NaN    NaN       1.8        NaN     NaN       NaN     1.4 NaN NaN  NaN      NaN     NaN      NaN  0101000020E6100000A69BC420B05A58C0B81E85EB51F8...    NaN     NaN\n",
       "18  273  1980-06-15 12:50:51.95    34.728    -95.778      5      NaN      NaN        NaN             NaN    PITTSBURG        OGS      1.2        Md      OGS NaN    NaN       NaN        NaN     NaN       NaN     1.2 NaN NaN  NaN      NaN     NaN      NaN  0101000020E61000006F1283C0CAF157C077BE9F1A2F5D...    NaN     NaN\n",
       "19  274  1980-07-08 01:34:44.01    34.002    -97.354      5      NaN      NaN        NaN             NaN         LOVE        OGS      2.3      M3Hz      OGS NaN    NaN       2.5        NaN     NaN       2.3     2.4 NaN NaN  NaN      NaN     NaN      NaN  0101000020E61000002DB29DEFA75658C0C74B37894100...    NaN     NaN"
      ]
     },
     "execution_count": 3,
     "metadata": {},
     "output_type": "execute_result"
    }
   ],
   "source": [
    "#initialize the dataframe with 1980 data\n",
    "since_1980_df = pd.DataFrame()\n",
    "since_1980_df = pd.read_csv('http://wichita.ogs.ou.edu/eq/catalog/1980/1980.csv')\n",
    "\n",
    "# add additional years\n",
    "for year in range(1981,2016):\n",
    "    url = 'http://wichita.ogs.ou.edu/eq/catalog/' + str(year) + '/' + str(year) + '.csv'\n",
    "    temp_df = pd.read_csv(url)\n",
    "    # This might not be the most efficient method\n",
    "    since_1980_df = since_1980_df.append(temp_df)\n",
    "since_1980_df.head(20)"
   ]
  },
  {
   "cell_type": "code",
   "execution_count": 4,
   "metadata": {
    "collapsed": false
   },
   "outputs": [
    {
     "data": {
      "text/plain": [
       "array([1980, 1981, 1982, 1983, 1984, 1985, 1986, 1987, 1988, 1989, 1990,\n",
       "       1991, 1992, 1993, 1994, 1995, 1996, 1997, 1998, 1999, 2000, 2001,\n",
       "       2002, 2003, 2004, 2005, 2006, 2007, 2008, 2009, 2010, 2011, 2012,\n",
       "       2013, 2014, 2015])"
      ]
     },
     "execution_count": 4,
     "metadata": {},
     "output_type": "execute_result"
    }
   ],
   "source": [
    "#Add column for year\n",
    "years = []\n",
    "for time in since_1980_df['origintime']:\n",
    "    year = int(str.split(time, '-')[0])\n",
    "    years.append(year)\n",
    "    #index = time.key\n",
    "year_column = pd.Series(years, index=since_1980_df.index)\n",
    "since_1980_df['year'] = year_column\n",
    "since_1980_df.head()\n",
    "year_column.unique()"
   ]
  },
  {
   "cell_type": "code",
   "execution_count": 5,
   "metadata": {
    "collapsed": false
   },
   "outputs": [
    {
     "data": {
      "text/plain": [
       "<matplotlib.text.Text at 0x10bbbd110>"
      ]
     },
     "execution_count": 5,
     "metadata": {},
     "output_type": "execute_result"
    },
    {
     "data": {
      "image/png": "[encoded data removed]",
      "text/plain": [
       "<matplotlib.figure.Figure at 0x103e3add0>"
      ]
     },
     "metadata": {},
     "output_type": "display_data"
    }
   ],
   "source": [
    "#plot number of earthquakes by year\n",
    "plt.hist(since_1980_df['year'].values, bins=2015-1980+1)\n",
    "plt.xlabel('Year')\n",
    "plt.ylabel('Number of Earthquakes')"
   ]
  },
  {
   "cell_type": "code",
   "execution_count": 6,
   "metadata": {
    "collapsed": true
   },
   "outputs": [],
   "source": [
    "#UNKNOWN ERROR ATTEMPTING TO DUMP AND LOAD AGAIN, \n",
    "#FEEL FREE TO ADD THE FUNCTION, PERHAPS YOU WILL HAVE BETTER LUCK"
   ]
  },
  {
   "cell_type": "code",
   "execution_count": 7,
   "metadata": {
    "collapsed": false
   },
   "outputs": [],
   "source": [
    "#DISTANCE FUNCTION\n",
    "#FOR CALCULATING DISTANCE TO FRACKING SITES, \n",
    "#DISTANCE FROM ONE EARTHQUAKE SITE TO THE NEXT, ETC.\n",
    "\n",
    "#function taken from http://www.johndcook.com/blog/python_longitude_latitude/\n",
    "#assumes that earth is perfectly spherical\n",
    "import math\n",
    "\n",
    "#in kilometers\n",
    "def distancef(lat1, long1, lat2, long2, earth_radius=6371):\n",
    " \n",
    "    # Convert latitude and longitude to \n",
    "    # spherical coordinates in radians.\n",
    "    degrees_to_radians = math.pi/180.0\n",
    "         \n",
    "    # phi = 90 - latitude\n",
    "    phi1 = (90.0 - lat1)*degrees_to_radians\n",
    "    phi2 = (90.0 - lat2)*degrees_to_radians\n",
    "         \n",
    "    # theta = longitude\n",
    "    theta1 = long1*degrees_to_radians\n",
    "    theta2 = long2*degrees_to_radians\n",
    "         \n",
    "    # Compute spherical distance from spherical coordinates.\n",
    "         \n",
    "    # For two locations in spherical coordinates \n",
    "    # (1, theta, phi) and (1, theta', phi')\n",
    "    # cosine( arc length ) = \n",
    "    #    sin phi sin phi' cos(theta-theta') + cos phi cos phi'\n",
    "    # distance = rho * arc length\n",
    "     \n",
    "    cos = (math.sin(phi1)*math.sin(phi2)*math.cos(theta1 - theta2) + \n",
    "           math.cos(phi1)*math.cos(phi2))\n",
    "    arc = math.acos( cos )\n",
    "    \n",
    "    distance=earth_radius*arc\n",
    " \n",
    "    # Remember to multiply arc by the radius of the earth \n",
    "    # in your favorite set of units to get length.\n",
    "    return distance"
   ]
  },
  {
   "cell_type": "code",
   "execution_count": 8,
   "metadata": {
    "collapsed": false
   },
   "outputs": [
    {
     "data": {
      "text/plain": [
       "131.9769916951462"
      ]
     },
     "execution_count": 8,
     "metadata": {},
     "output_type": "execute_result"
    }
   ],
   "source": [
    "#EXAMPLE OF FUNCTION IN USE\n",
    "distance = distancef(since_1980_df.iloc[15749]['latitude'], \n",
    "                     since_1980_df.iloc[15749]['longitude'], \n",
    "                     since_1980_df.iloc[15750]['latitude'], \n",
    "                     since_1980_df.iloc[15750]['longitude'])\n",
    "distance"
   ]
  },
  {
   "cell_type": "code",
   "execution_count": 9,
   "metadata": {
    "collapsed": false
   },
   "outputs": [
    {
     "data": {
      "text/plain": [
       "<matplotlib.text.Text at 0x10cc2ae90>"
      ]
     },
     "execution_count": 9,
     "metadata": {},
     "output_type": "execute_result"
    },
    {
     "data": {
      "image/png": "[encoded data removed]",
      "text/plain": [
       "<matplotlib.figure.Figure at 0x10936af90>"
      ]
     },
     "metadata": {},
     "output_type": "display_data"
    }
   ],
   "source": [
    "#Earthquakes <2 magnitude\n",
    "#mask for earthquakes >2 magnitude\n",
    "l2mask = since_1980_df['prefmag'] <2\n",
    "plt.hist(since_1980_df[l2mask]['year'].values, bins=2015-1980+1)\n",
    "plt.xlabel('Year')\n",
    "plt.ylabel('Number of Earthquakes')"
   ]
  },
  {
   "cell_type": "code",
   "execution_count": 10,
   "metadata": {
    "collapsed": false
   },
   "outputs": [
    {
     "data": {
      "text/plain": [
       "<matplotlib.text.Text at 0x10c2283d0>"
      ]
     },
     "execution_count": 10,
     "metadata": {},
     "output_type": "execute_result"
    },
    {
     "data": {
      "image/png": "[encoded data removed]",
      "text/plain": [
       "<matplotlib.figure.Figure at 0x10c1b7c90>"
      ]
     },
     "metadata": {},
     "output_type": "display_data"
    }
   ],
   "source": [
    "#Earthquakes 2>magnitude<4\n",
    "#mask for earthquakes >2 magnitude\n",
    "b24mask = (since_1980_df['prefmag'] >2) & (since_1980_df['prefmag'] < 4)\n",
    "plt.hist(since_1980_df[b24mask]['year'].values, bins=2015-1980+1)\n",
    "plt.xlabel('Year')\n",
    "plt.ylabel('Number of Earthquakes')"
   ]
  },
  {
   "cell_type": "code",
   "execution_count": 11,
   "metadata": {
    "collapsed": false
   },
   "outputs": [
    {
     "data": {
      "text/plain": [
       "<matplotlib.text.Text at 0x10d134ad0>"
      ]
     },
     "execution_count": 11,
     "metadata": {},
     "output_type": "execute_result"
    },
    {
     "data": {
      "image/png": "[encoded data removed]",
      "text/plain": [
       "<matplotlib.figure.Figure at 0x10d853190>"
      ]
     },
     "metadata": {},
     "output_type": "display_data"
    }
   ],
   "source": [
    "#Earthquakes >4 magnitude\n",
    "#mask for earthquakes >4 magnitude\n",
    "gfmask = since_1980_df['prefmag'] >4\n",
    "plt.hist(since_1980_df[gfmask]['year'].values, bins=2015-1980+1)\n",
    "plt.xlabel('Year')\n",
    "plt.ylabel('Number of Earthquakes')"
   ]
  },
  {
   "cell_type": "code",
   "execution_count": 12,
   "metadata": {
    "collapsed": false
   },
   "outputs": [],
   "source": [
    "#REQUIRES INSTALLATION conda install basemap\n",
    "#received assistance from https://peak5390.wordpress.com/2012/12/08/matplotlib-basemap-tutorial-plotting-points-on-a-simple-map/\n",
    "from mpl_toolkits.basemap import Basemap\n",
    "import matplotlib.pyplot as plt\n",
    "import numpy as np\n",
    " \n",
    "def plot_earthquakes(df, minyr, maxyr):\n",
    "    mask = df.year>=minyr & df.year<=maxyr\n",
    "    map = Basemap(llcrnrlon=int(min(df.longitude))-10, llcrnrlat=int(min(df.latitude))-5,\n",
    "                  urcrnrlon=int(max(df.longitude))+10, urcrnrlat=int(max(df.latitude))+5)\n",
    "    \"\"\"\n",
    "    min_marker_size = 4\n",
    "    for lon, lat, mag in zip(df.longitude.values, df.latitude.values, df.prefmag.values):\n",
    "        x,y = map(lon, lat)\n",
    "        msize = mag * min_marker_size\n",
    "        map.plot(x, y, 'ro', markersize=msize)\n",
    "    \"\"\"\n",
    "    #map.plot(df.longitude.values, df.latitude.values, 'ro', markersize=2)\n",
    "    map.drawmapboundary(fill_color='white')\n",
    "    map.drawcoastlines()\n",
    "    map.drawstates()\n",
    "    plt.show()"
   ]
  },
  {
   "cell_type": "code",
   "execution_count": 13,
   "metadata": {
    "collapsed": false
   },
   "outputs": [
    {
     "ename": "ValueError",
     "evalue": "The truth value of a Series is ambiguous. Use a.empty, a.bool(), a.item(), a.any() or a.all().",
     "output_type": "error",
     "traceback": [
      "\u001b[0;31m---------------------------------------------------------------------------\u001b[0m",
      "\u001b[0;31mValueError\u001b[0m                                Traceback (most recent call last)",
      "\u001b[0;32m<ipython-input-13-cc7cc490e2a6>\u001b[0m in \u001b[0;36m<module>\u001b[0;34m()\u001b[0m\n\u001b[1;32m      1\u001b[0m \u001b[0;31m#TESTING\u001b[0m\u001b[0;34m\u001b[0m\u001b[0;34m\u001b[0m\u001b[0m\n\u001b[0;32m----> 2\u001b[0;31m \u001b[0mplot_earthquakes\u001b[0m\u001b[0;34m(\u001b[0m\u001b[0msince_1980_df\u001b[0m\u001b[0;34m,\u001b[0m\u001b[0;36m1980\u001b[0m\u001b[0;34m,\u001b[0m\u001b[0;36m1990\u001b[0m\u001b[0;34m)\u001b[0m\u001b[0;34m\u001b[0m\u001b[0m\n\u001b[0m",
      "\u001b[0;32m<ipython-input-12-03d9e4c9aec4>\u001b[0m in \u001b[0;36mplot_earthquakes\u001b[0;34m(df, minyr, maxyr)\u001b[0m\n\u001b[1;32m      6\u001b[0m \u001b[0;34m\u001b[0m\u001b[0m\n\u001b[1;32m      7\u001b[0m \u001b[0;32mdef\u001b[0m \u001b[0mplot_earthquakes\u001b[0m\u001b[0;34m(\u001b[0m\u001b[0mdf\u001b[0m\u001b[0;34m,\u001b[0m \u001b[0mminyr\u001b[0m\u001b[0;34m,\u001b[0m \u001b[0mmaxyr\u001b[0m\u001b[0;34m)\u001b[0m\u001b[0;34m:\u001b[0m\u001b[0;34m\u001b[0m\u001b[0m\n\u001b[0;32m----> 8\u001b[0;31m     \u001b[0mmask\u001b[0m \u001b[0;34m=\u001b[0m \u001b[0mdf\u001b[0m\u001b[0;34m.\u001b[0m\u001b[0myear\u001b[0m\u001b[0;34m>=\u001b[0m\u001b[0mminyr\u001b[0m \u001b[0;34m&\u001b[0m \u001b[0mdf\u001b[0m\u001b[0;34m.\u001b[0m\u001b[0myear\u001b[0m\u001b[0;34m<=\u001b[0m\u001b[0mmaxyr\u001b[0m\u001b[0;34m\u001b[0m\u001b[0m\n\u001b[0m\u001b[1;32m      9\u001b[0m     map = Basemap(llcrnrlon=int(min(df.longitude))-10, llcrnrlat=int(min(df.latitude))-5,\n\u001b[1;32m     10\u001b[0m                   urcrnrlon=int(max(df.longitude))+10, urcrnrlat=int(max(df.latitude))+5)\n",
      "\u001b[0;32m//anaconda/lib/python2.7/site-packages/pandas/core/generic.pyc\u001b[0m in \u001b[0;36m__nonzero__\u001b[0;34m(self)\u001b[0m\n\u001b[1;32m    712\u001b[0m         raise ValueError(\"The truth value of a {0} is ambiguous. \"\n\u001b[1;32m    713\u001b[0m                          \u001b[0;34m\"Use a.empty, a.bool(), a.item(), a.any() or a.all().\"\u001b[0m\u001b[0;34m\u001b[0m\u001b[0m\n\u001b[0;32m--> 714\u001b[0;31m                          .format(self.__class__.__name__))\n\u001b[0m\u001b[1;32m    715\u001b[0m \u001b[0;34m\u001b[0m\u001b[0m\n\u001b[1;32m    716\u001b[0m     \u001b[0m__bool__\u001b[0m \u001b[0;34m=\u001b[0m \u001b[0m__nonzero__\u001b[0m\u001b[0;34m\u001b[0m\u001b[0m\n",
      "\u001b[0;31mValueError\u001b[0m: The truth value of a Series is ambiguous. Use a.empty, a.bool(), a.item(), a.any() or a.all()."
     ]
    }
   ],
   "source": [
    "#TESTING\n",
    "plot_earthquakes(since_1980_df,1980,1990)"
   ]
  },
  {
   "cell_type": "code",
   "execution_count": null,
   "metadata": {
    "collapsed": false
   },
   "outputs": [],
   "source": [
    "#converts time stamp to day, hour\n",
    "#Jan 1 of start year is day 1\n",
    "#def to_hours(startyear,df):\n",
    "import datetime\n",
    "dates=[]\n",
    "origintimes = since_1980_df.origintime.values\n",
    "\n",
    "for d in origintimes:\n",
    "    date = d\n",
    "    year, month, day = date.split('-')\n",
    "    day, hour = day.split(' ')\n",
    "    hour, minute, second = hour.split(':')\n",
    "    if len(second.split('.'))==2:\n",
    "        second, microsecond = second.split('.')\n",
    "    elif len(second.split('.'))==1:\n",
    "        microsecond=0\n",
    "    dates.append(datetime.datetime(int(year), int(month), int(day), int(hour), int(minute), \n",
    "                                   int(second), int(microsecond)))\n",
    "dates=sorted(dates)\n",
    "\n",
    "deltas=[]\n",
    "for i in range(1,1000):\n",
    "    delta = dates[i] - dates[i-1]\n",
    "    delta = delta.total_seconds()/3600\n",
    "    deltas.append(delta)\n",
    "#sp.stats.kstest(deltas, 'expon', alternative='two-sided')\n",
    "expo_fit = sp.stats.expon.fit(deltas, floc=0)\n",
    "plt.hist(np.log(deltas), bins=50, normed=True)\n",
    "x = np.arange(0,3000,0.01)\n",
    "y = sp.stats.expon.pdf(x, scale=expo_fit[1])\n",
    "plt.plot(x,np.log(y))"
   ]
  },
  {
   "cell_type": "code",
   "execution_count": 16,
   "metadata": {
    "collapsed": false
   },
   "outputs": [],
   "source": [
    "#converts time stamp to day, hour\n",
    "#Jan 1 of start year is day 1\n",
    "#def to_hours(startyear,df):\n",
    "import datetime\n",
    "#function to create list of interarrival times in hours from df with origin time\n",
    "def get_hours_between(df):\n",
    "    dates=[]\n",
    "    origintimes = since_1980_df.origintime.values\n",
    "    for date in origintimes:\n",
    "        year, month, day = date.split('-')\n",
    "        day, hour = day.split(' ')\n",
    "        hour, minute, second = hour.split(':')\n",
    "        if len(second.split('.'))==2:\n",
    "            second, microsecond = second.split('.')\n",
    "        elif len(second.split('.'))==1:\n",
    "            microsecond=0\n",
    "        dates.append(datetime.datetime(int(year), int(month), int(day), int(hour), int(minute), \n",
    "                                       int(second), int(microsecond)))\n",
    "    dates=sorted(dates)\n",
    "    deltas=[]\n",
    "    for i in range(1,len(dates)):\n",
    "        delta = dates[i] - dates[i-1]\n",
    "        delta = delta.total_seconds()/3600\n",
    "        deltas.append(delta)\n",
    "    return deltas"
   ]
  },
  {
   "cell_type": "code",
   "execution_count": 18,
   "metadata": {
    "collapsed": false
   },
   "outputs": [
    {
     "data": {
      "text/plain": [
       "[521.5594444333333,\n",
       " 51.76805556666667,\n",
       " 791.4097222252777,\n",
       " 202.08916665694443,\n",
       " 56.807222242222224,\n",
       " 80.9677777675,\n",
       " 229.45861110277778,\n",
       " 166.02611112972224,\n",
       " 504.6958333125]"
      ]
     },
     "execution_count": 18,
     "metadata": {},
     "output_type": "execute_result"
    }
   ],
   "source": [
    "#get interarrival times for whole df\n",
    "deltas = get_hours_between(since_1980_df)"
   ]
  },
  {
   "cell_type": "code",
   "execution_count": 19,
   "metadata": {
    "collapsed": true
   },
   "outputs": [],
   "source": [
    "#fit and plot exponential to data\n",
    "def fit_expo(deltas):\n",
    "    expo_fit = sp.stats.expon.fit(deltas, floc=0)\n",
    "    plt.hist(deltas, bins=50, normed=True)\n",
    "    x = np.arange(0,3000,0.01)\n",
    "    y = sp.stats.expon.pdf(x, scale=expo_fit[1])\n",
    "    plt.plot(x,y)\n",
    "    return(x,y)"
   ]
  },
  {
   "cell_type": "code",
   "execution_count": 20,
   "metadata": {
    "collapsed": false
   },
   "outputs": [
    {
     "data": {
      "image/png": "[encoded data removed]",
      "text/plain": [
       "<matplotlib.figure.Figure at 0x1021dbf10>"
      ]
     },
     "metadata": {},
     "output_type": "display_data"
    }
   ],
   "source": [
    "coordinates = fit_expo(deltas)"
   ]
  },
  {
   "cell_type": "code",
   "execution_count": 22,
   "metadata": {
    "collapsed": true
   },
   "outputs": [],
   "source": [
    "def find_regions(df):\n",
    "    lat = np.arange(int(min(df.latitude)), int(max(df.latitude))+1, 0.5)\n",
    "    long = np.arange(int(min(df.longitude)), int(max(df.longitude))+1, 0.5)\n",
    "    lat_pairs = []\n",
    "    for i in range(0,len(lat)-1):\n",
    "        lat_pair = (lat[i], lat[i+1])\n",
    "        lat_pairs.append(lat_pair)\n",
    "    long_pairs = []\n",
    "    for i in range(0,len(long)-1):\n",
    "        long_pair = (long[i], long[i+1])\n",
    "        long_pairs.append(long_pair)\n",
    "    pairs = []\n",
    "    for lats in lat_pairs:\n",
    "        for longs in long_pairs:\n",
    "            pair = lats, longs\n",
    "            pairs.append(pair)\n",
    "    return(lat, long, pairs)"
   ]
  },
  {
   "cell_type": "code",
   "execution_count": 62,
   "metadata": {
    "collapsed": false
   },
   "outputs": [
    {
     "data": {
      "text/plain": [
       "array([ 33.5,  34. ,  34.5,  35. ])"
      ]
     },
     "execution_count": 62,
     "metadata": {},
     "output_type": "execute_result"
    }
   ],
   "source": [
    "#TESTING\n",
    "test = find_regions(since_1980_df)\n",
    "test[0][1:5]"
   ]
  },
  {
   "cell_type": "code",
   "execution_count": null,
   "metadata": {
    "collapsed": true
   },
   "outputs": [],
   "source": [
    "#add region column to dataframe\n",
    "def add_region(df, lat, long):\n",
    "    lat = test[0]\n",
    "    ulat_bool = (34.2<lat)\n",
    "    llat_bool = (34.2>lat)\n",
    "    print max(lat[llat_bool]), min(lat[ulat_bool])\n",
    "\n",
    "    long = test[1]\n",
    "    ulong_bool = (-100.7<long)\n",
    "    llong_bool = (-100.7>long)\n",
    "    print max(long[llong_bool]), min(long[ulong_bool])"
   ]
  },
  {
   "cell_type": "code",
   "execution_count": 64,
   "metadata": {
    "collapsed": false
   },
   "outputs": [
    {
     "name": "stdout",
     "output_type": "stream",
     "text": [
      "34.0 34.5\n",
      "-101.0 -100.5\n"
     ]
    }
   ],
   "source": []
  },
  {
   "cell_type": "code",
   "execution_count": 47,
   "metadata": {
    "collapsed": false
   },
   "outputs": [
    {
     "data": {
      "text/plain": [
       "256"
      ]
     },
     "execution_count": 47,
     "metadata": {},
     "output_type": "execute_result"
    }
   ],
   "source": [
    "a = np.array([1,2,3,4])\n",
    "a = np.insert(a,0,[256,257])\n",
    "a[0]"
   ]
  },
  {
   "cell_type": "code",
   "execution_count": null,
   "metadata": {
    "collapsed": true
   },
   "outputs": [],
   "source": [
    "#Exponential?\n",
    "#sp.stats.kstest(deltas, 'expon', alternative='two-sided')"
   ]
  },
  {
   "cell_type": "code",
   "execution_count": null,
   "metadata": {
    "collapsed": true
   },
   "outputs": [],
   "source": [
    "#TO ADD: QQPLOT TO SEE IF IT IS EXPONENTIAL"
   ]
  },
  {
   "cell_type": "code",
   "execution_count": null,
   "metadata": {
    "collapsed": true
   },
   "outputs": [],
   "source": [
    "#USE UNIVERSALITY OF THE UNIFORM (PROBABILITY INTEGRAL TRANSFORM) TO DETERMINE WHETHER THE DISTRIBUTION IS EXPONENTIAL"
   ]
  }
 ],
 "metadata": {
  "kernelspec": {
   "display_name": "Python 2",
   "language": "python",
   "name": "python2"
  },
  "language_info": {
   "codemirror_mode": {
    "name": "ipython",
    "version": 2
   },
   "file_extension": ".py",
   "mimetype": "text/x-python",
   "name": "python",
   "nbconvert_exporter": "python",
   "pygments_lexer": "ipython2",
   "version": "2.7.10"
  }
 },
 "nbformat": 4,
 "nbformat_minor": 0
}
